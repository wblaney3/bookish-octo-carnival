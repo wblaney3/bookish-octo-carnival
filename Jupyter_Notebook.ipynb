{
  "metadata": {
    "kernelspec": {
      "name": "python",
      "display_name": "Pyolite",
      "language": "python"
    },
    "language_info": {
      "codemirror_mode": {
        "name": "ipython",
        "version": 3
      },
      "file_extension": ".py",
      "mimetype": "text/x-python",
      "name": "python",
      "nbconvert_exporter": "python",
      "pygments_lexer": "ipython3",
      "version": "3.7.6"
    }
  },
  "nbformat_minor": 4,
  "nbformat": 4,
  "cells": [
    {
      "cell_type": "markdown",
      "source": "<center>\n    <img src=\"https://cf-courses-data.s3.us.cloud-object-storage.appdomain.cloud/IBMDeveloperSkillsNetwork-DS0105EN-SkillsNetwork/labs/Module2/images/SN_web_lightmode.png\" width=\"300\" alt=\"cognitiveclass.ai logo\"  />\n</center>\n",
      "metadata": {}
    },
    {
      "cell_type": "markdown",
      "source": "# My Jupyter Notebook on IBM Watson Studio",
      "metadata": {}
    },
    {
      "cell_type": "markdown",
      "source": "__Bill Blaney__\n<br>  Database Administrator",
      "metadata": {}
    },
    {
      "cell_type": "markdown",
      "source": "_I am interested in Data Science to better understand how to help my clients better use their databases_",
      "metadata": {}
    },
    {
      "cell_type": "markdown",
      "source": "### The following cell computes the square of 25:",
      "metadata": {}
    },
    {
      "cell_type": "code",
      "source": "print(25**2)",
      "metadata": {
        "trusted": true
      },
      "execution_count": 5,
      "outputs": [
        {
          "name": "stdout",
          "text": "625\n",
          "output_type": "stream"
        }
      ]
    },
    {
      "cell_type": "markdown",
      "source": "***\n* Bulleted item 1\n* Bulleted item 2\n* Bulleted item 3\n<br>\n***\n1. Numbered item A\n2. Numbered item B\n3. Numbered item c\n<br>\n***\n__[This is a helpful cheat sheet for Jupyter Markup](http://ibm.com/docs/en/db2-event-store/2.0.0?topic=notebooks-markdown-jupyter-cheatsheet)__\n<br>\n***\nProgramming in Java is ~~tedious~~ <span style=\"color:red\">Great Fun!</span>\n***\nCheck this out: Euler's \"perfect\" equation: \n### $e^{i\\pi} + 1 = 0$\n\n",
      "metadata": {}
    },
    {
      "cell_type": "code",
      "source": "",
      "metadata": {},
      "execution_count": null,
      "outputs": []
    }
  ]
}